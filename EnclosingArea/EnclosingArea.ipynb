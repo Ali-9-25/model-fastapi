{
 "cells": [
  {
   "cell_type": "code",
   "execution_count": 1,
   "metadata": {},
   "outputs": [],
   "source": [
    "from EnclosingArea import enclosing_area\n",
    "import skimage as ski"
   ]
  },
  {
   "cell_type": "code",
   "execution_count": 2,
   "metadata": {},
   "outputs": [
    {
     "name": "stdout",
     "output_type": "stream",
     "text": [
      "0.08725442975834313\n"
     ]
    },
    {
     "name": "stderr",
     "output_type": "stream",
     "text": [
      "c:\\Codes\\Pattern\\Project\\Arabic-Font-Recognition\\src\\features\\EnclosingArea\\EnclosingArea.py:14: UserWarning: Any labeled images will be returned as a boolean array. Did you mean to use a boolean array?\n",
      "  mask = morphology.remove_small_holes(image , area_threshold=10)\n"
     ]
    }
   ],
   "source": [
    "img = ski.io.imread(\"../../data/processed/fonts-dataset/Scheherazade New/4.jpeg\")\n",
    "enclosing_area = enclosing_area(img)\n",
    "print(enclosing_area)"
   ]
  }
 ],
 "metadata": {
  "kernelspec": {
   "display_name": "Python 3",
   "language": "python",
   "name": "python3"
  },
  "language_info": {
   "codemirror_mode": {
    "name": "ipython",
    "version": 3
   },
   "file_extension": ".py",
   "mimetype": "text/x-python",
   "name": "python",
   "nbconvert_exporter": "python",
   "pygments_lexer": "ipython3",
   "version": "3.12.1"
  }
 },
 "nbformat": 4,
 "nbformat_minor": 2
}
