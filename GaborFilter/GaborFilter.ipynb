{
 "cells": [
  {
   "cell_type": "code",
   "execution_count": 1,
   "metadata": {},
   "outputs": [],
   "source": [
    "from GaborFilter import gabor_filter\n",
    "import skimage as ski"
   ]
  },
  {
   "cell_type": "code",
   "execution_count": 2,
   "metadata": {},
   "outputs": [
    {
     "name": "stdout",
     "output_type": "stream",
     "text": [
      "[96.36619349864382, 119.38781354367143, 17852962, 66.27076592639507, 108.60286570282668, 11674224, 48.009963032314026, 97.30921478890777, 7539449, 37.746977874461315, 88.56774208925303, 5587720, 96.50915931213945, 120.29438194156464, 14871556, 69.5906551610194, 110.41029286722538, 12641883, 52.33423572579202, 100.41766490685755, 8938359, 43.06260068015035, 93.49195478538843, 6628212, 101.09563925871873, 119.13715239904626, 23464041, 74.59231767427131, 110.5980141451978, 18487145, 56.65074830306619, 102.21266774512412, 13347436, 43.51973503049662, 92.5984346616014, 10304957, 97.70583841610332, 120.43548109888174, 15629124, 67.91911167407856, 109.70208534181593, 11712454, 50.76808628547039, 99.60057248431704, 7768803, 41.281157494733655, 92.17064884885568, 5631024]\n",
      "48\n"
     ]
    }
   ],
   "source": [
    "img = ski.io.imread(\"../../data/processed/fonts-dataset/Scheherazade New/4.jpeg\")\n",
    "gaborfilter = gabor_filter(img)\n",
    "print(gaborfilter)\n",
    "print(len(gaborfilter))"
   ]
  }
 ],
 "metadata": {
  "kernelspec": {
   "display_name": "Python 3",
   "language": "python",
   "name": "python3"
  },
  "language_info": {
   "codemirror_mode": {
    "name": "ipython",
    "version": 3
   },
   "file_extension": ".py",
   "mimetype": "text/x-python",
   "name": "python",
   "nbconvert_exporter": "python",
   "pygments_lexer": "ipython3",
   "version": "3.12.1"
  }
 },
 "nbformat": 4,
 "nbformat_minor": 2
}
